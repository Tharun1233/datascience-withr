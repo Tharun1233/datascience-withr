{
  "nbformat": 4,
  "nbformat_minor": 0,
  "metadata": {
    "colab": {
      "name": "Untitled7.ipynb",
      "provenance": [],
      "collapsed_sections": [],
      "authorship_tag": "ABX9TyMhb5+Pqf6YoonWENxViR4c",
      "include_colab_link": true
    },
    "kernelspec": {
      "name": "python3",
      "display_name": "Python 3"
    },
    "language_info": {
      "name": "python"
    }
  },
  "cells": [
    {
      "cell_type": "markdown",
      "metadata": {
        "id": "view-in-github",
        "colab_type": "text"
      },
      "source": [
        "<a href=\"https://colab.research.google.com/github/Tharun1233/datascience-withr/blob/main/Untitled7.ipynb\" target=\"_parent\"><img src=\"https://colab.research.google.com/assets/colab-badge.svg\" alt=\"Open In Colab\"/></a>"
      ]
    },
    {
      "cell_type": "markdown",
      "source": [
        "salary prediction using SLR"
      ],
      "metadata": {
        "id": "UielvdszIJ6v"
      }
    },
    {
      "cell_type": "code",
      "execution_count": 2,
      "metadata": {
        "id": "JFHx7OtFHTlK"
      },
      "outputs": [],
      "source": [
        "%load_ext rpy2.ipython"
      ]
    },
    {
      "cell_type": "code",
      "source": [
        "%%R\n",
        "library(readr)\n",
        "library(dplyr)\n",
        "library(tidyr)\n",
        "library(ggplot2)"
      ],
      "metadata": {
        "colab": {
          "base_uri": "https://localhost:8080/"
        },
        "id": "FF0AgJuoHvon",
        "outputId": "7d864a70-7b17-4abe-e5b4-922b0d001e7a"
      },
      "execution_count": 3,
      "outputs": [
        {
          "output_type": "stream",
          "name": "stderr",
          "text": [
            "R[write to console]: \n",
            "Attaching package: ‘dplyr’\n",
            "\n",
            "\n",
            "R[write to console]: The following objects are masked from ‘package:stats’:\n",
            "\n",
            "    filter, lag\n",
            "\n",
            "\n",
            "R[write to console]: The following objects are masked from ‘package:base’:\n",
            "\n",
            "    intersect, setdiff, setequal, union\n",
            "\n",
            "\n"
          ]
        }
      ]
    },
    {
      "cell_type": "code",
      "source": [
        "%%R\n",
        "salary=read_csv(\"/content/Salary_Data.csv\")"
      ],
      "metadata": {
        "colab": {
          "base_uri": "https://localhost:8080/"
        },
        "id": "2aVIUt7uIZeW",
        "outputId": "b674aa7b-d9be-46f6-90db-bb55f2eae492"
      },
      "execution_count": 6,
      "outputs": [
        {
          "output_type": "stream",
          "name": "stdout",
          "text": [
            "Rows: 30 Columns: 2\n",
            "── Column specification ────────────────────────────────────────────────────────\n",
            "Delimiter: \",\"\n",
            "dbl (2): YearsExperience, Salary\n",
            "\n",
            "ℹ Use `spec()` to retrieve the full column specification for this data.\n",
            "ℹ Specify the column types or set `show_col_types = FALSE` to quiet this message.\n"
          ]
        }
      ]
    },
    {
      "cell_type": "code",
      "source": [
        "%%R\n",
        "salary"
      ],
      "metadata": {
        "colab": {
          "base_uri": "https://localhost:8080/"
        },
        "id": "PbQVYfgmI-eN",
        "outputId": "a04db48a-2d4e-4ce6-88ad-eb637c9e978a"
      },
      "execution_count": 7,
      "outputs": [
        {
          "output_type": "stream",
          "name": "stdout",
          "text": [
            "# A tibble: 30 × 2\n",
            "   YearsExperience Salary\n",
            "             <dbl>  <dbl>\n",
            " 1             1.1  39343\n",
            " 2             1.3  46205\n",
            " 3             1.5  37731\n",
            " 4             2    43525\n",
            " 5             2.2  39891\n",
            " 6             2.9  56642\n",
            " 7             3    60150\n",
            " 8             3.2  54445\n",
            " 9             3.2  64445\n",
            "10             3.7  57189\n",
            "# … with 20 more rows\n"
          ]
        }
      ]
    },
    {
      "cell_type": "code",
      "source": [
        "%%R\n",
        "print(salary$YearsExperience)\n",
        "print(salary$Salary)"
      ],
      "metadata": {
        "colab": {
          "base_uri": "https://localhost:8080/"
        },
        "id": "aXSwSaUgJD2b",
        "outputId": "260d72c4-08d7-4778-b48e-2d055f265372"
      },
      "execution_count": 9,
      "outputs": [
        {
          "output_type": "stream",
          "name": "stdout",
          "text": [
            " [1]  1.1  1.3  1.5  2.0  2.2  2.9  3.0  3.2  3.2  3.7  3.9  4.0  4.0  4.1  4.5\n",
            "[16]  4.9  5.1  5.3  5.9  6.0  6.8  7.1  7.9  8.2  8.7  9.0  9.5  9.6 10.3 10.5\n",
            " [1]  39343  46205  37731  43525  39891  56642  60150  54445  64445  57189\n",
            "[11]  63218  55794  56957  57081  61111  67938  66029  83088  81363  93940\n",
            "[21]  91738  98273 101302 113812 109431 105582 116969 112635 122391 121872\n"
          ]
        }
      ]
    },
    {
      "cell_type": "code",
      "source": [
        "%%R\n",
        "cor(salary$Salary,salary$YearsExperience)"
      ],
      "metadata": {
        "colab": {
          "base_uri": "https://localhost:8080/"
        },
        "id": "TKP8PNMBJcTj",
        "outputId": "64dff136-3c52-4c8f-f07d-15d34fcc6a26"
      },
      "execution_count": 10,
      "outputs": [
        {
          "output_type": "stream",
          "name": "stdout",
          "text": [
            "[1] 0.9782416\n"
          ]
        }
      ]
    },
    {
      "cell_type": "code",
      "source": [
        "%%R\n",
        "relation <- lm(salary$Salary~salary$YearsExperience)\n",
        "print(relation)"
      ],
      "metadata": {
        "colab": {
          "base_uri": "https://localhost:8080/"
        },
        "id": "pc941KDfKudS",
        "outputId": "306d164f-6ffa-4bb0-d510-3733bfcc51f5"
      },
      "execution_count": 11,
      "outputs": [
        {
          "output_type": "stream",
          "name": "stdout",
          "text": [
            "\n",
            "Call:\n",
            "lm(formula = salary$Salary ~ salary$YearsExperience)\n",
            "\n",
            "Coefficients:\n",
            "           (Intercept)  salary$YearsExperience  \n",
            "                 25792                    9450  \n",
            "\n"
          ]
        }
      ]
    },
    {
      "cell_type": "code",
      "source": [
        "%%R\n",
        "summary(relation)"
      ],
      "metadata": {
        "colab": {
          "base_uri": "https://localhost:8080/"
        },
        "id": "2RJICdpzLyBn",
        "outputId": "3ccfd311-bdd9-4561-fc77-d487e7d50e94"
      },
      "execution_count": 14,
      "outputs": [
        {
          "output_type": "stream",
          "name": "stdout",
          "text": [
            "\n",
            "Call:\n",
            "lm(formula = salary$Salary ~ salary$YearsExperience)\n",
            "\n",
            "Residuals:\n",
            "    Min      1Q  Median      3Q     Max \n",
            "-7958.0 -4088.5  -459.9  3372.6 11448.0 \n",
            "\n",
            "Coefficients:\n",
            "                       Estimate Std. Error t value Pr(>|t|)    \n",
            "(Intercept)             25792.2     2273.1   11.35 5.51e-12 ***\n",
            "salary$YearsExperience   9450.0      378.8   24.95  < 2e-16 ***\n",
            "---\n",
            "Signif. codes:  0 ‘***’ 0.001 ‘**’ 0.01 ‘*’ 0.05 ‘.’ 0.1 ‘ ’ 1\n",
            "\n",
            "Residual standard error: 5788 on 28 degrees of freedom\n",
            "Multiple R-squared:  0.957,\tAdjusted R-squared:  0.9554 \n",
            "F-statistic: 622.5 on 1 and 28 DF,  p-value: < 2.2e-16\n",
            "\n"
          ]
        }
      ]
    },
    {
      "cell_type": "code",
      "source": [
        "%%R\n",
        "names(relation)\n",
        "#model)relation"
      ],
      "metadata": {
        "colab": {
          "base_uri": "https://localhost:8080/"
        },
        "id": "CRjRSz40Mb8k",
        "outputId": "45bc903f-b306-4f5a-bf4b-8d265195cc89"
      },
      "execution_count": 16,
      "outputs": [
        {
          "output_type": "stream",
          "name": "stdout",
          "text": [
            " [1] \"coefficients\"  \"residuals\"     \"effects\"       \"rank\"         \n",
            " [5] \"fitted.values\" \"assign\"        \"qr\"            \"df.residual\"  \n",
            " [9] \"xlevels\"       \"call\"          \"terms\"         \"model\"        \n"
          ]
        }
      ]
    },
    {
      "cell_type": "code",
      "source": [
        "%%R\n",
        "str(relation)\n",
        "#relation$coefficients[1]"
      ],
      "metadata": {
        "colab": {
          "base_uri": "https://localhost:8080/"
        },
        "id": "bAhzL7_4M3Vh",
        "outputId": "717ed782-a00e-462f-e0e0-77eca359675c"
      },
      "execution_count": 18,
      "outputs": [
        {
          "output_type": "stream",
          "name": "stdout",
          "text": [
            "List of 12\n",
            " $ coefficients : Named num [1:2] 25792 9450\n",
            "  ..- attr(*, \"names\")= chr [1:2] \"(Intercept)\" \"salary$YearsExperience\"\n",
            " $ residuals    : Named num [1:30] 3156 8128 -2236 -1167 -6691 ...\n",
            "  ..- attr(*, \"names\")= chr [1:30] \"1\" \"2\" \"3\" \"4\" ...\n",
            " $ effects      : Named num [1:30] -416286 144419 -4019 -2746 -8188 ...\n",
            "  ..- attr(*, \"names\")= chr [1:30] \"(Intercept)\" \"salary$YearsExperience\" \"\" \"\" ...\n",
            " $ rank         : int 2\n",
            " $ fitted.values: Named num [1:30] 36187 38077 39967 44692 46582 ...\n",
            "  ..- attr(*, \"names\")= chr [1:30] \"1\" \"2\" \"3\" \"4\" ...\n",
            " $ assign       : int [1:2] 0 1\n",
            " $ qr           :List of 5\n",
            "  ..$ qr   : num [1:30, 1:2] -5.477 0.183 0.183 0.183 0.183 ...\n",
            "  .. ..- attr(*, \"dimnames\")=List of 2\n",
            "  .. .. ..$ : chr [1:30] \"1\" \"2\" \"3\" \"4\" ...\n",
            "  .. .. ..$ : chr [1:2] \"(Intercept)\" \"salary$YearsExperience\"\n",
            "  .. ..- attr(*, \"assign\")= int [1:2] 0 1\n",
            "  ..$ qraux: num [1:2] 1.18 1.22\n",
            "  ..$ pivot: int [1:2] 1 2\n",
            "  ..$ tol  : num 1e-07\n",
            "  ..$ rank : int 2\n",
            "  ..- attr(*, \"class\")= chr \"qr\"\n",
            " $ df.residual  : int 28\n",
            " $ xlevels      : Named list()\n",
            " $ call         : language lm(formula = salary$Salary ~ salary$YearsExperience)\n",
            " $ terms        :Classes 'terms', 'formula'  language salary$Salary ~ salary$YearsExperience\n",
            "  .. ..- attr(*, \"variables\")= language list(salary$Salary, salary$YearsExperience)\n",
            "  .. ..- attr(*, \"factors\")= int [1:2, 1] 0 1\n",
            "  .. .. ..- attr(*, \"dimnames\")=List of 2\n",
            "  .. .. .. ..$ : chr [1:2] \"salary$Salary\" \"salary$YearsExperience\"\n",
            "  .. .. .. ..$ : chr \"salary$YearsExperience\"\n",
            "  .. ..- attr(*, \"term.labels\")= chr \"salary$YearsExperience\"\n",
            "  .. ..- attr(*, \"order\")= int 1\n",
            "  .. ..- attr(*, \"intercept\")= int 1\n",
            "  .. ..- attr(*, \"response\")= int 1\n",
            "  .. ..- attr(*, \".Environment\")=<environment: R_GlobalEnv> \n",
            "  .. ..- attr(*, \"predvars\")= language list(salary$Salary, salary$YearsExperience)\n",
            "  .. ..- attr(*, \"dataClasses\")= Named chr [1:2] \"numeric\" \"numeric\"\n",
            "  .. .. ..- attr(*, \"names\")= chr [1:2] \"salary$Salary\" \"salary$YearsExperience\"\n",
            " $ model        :'data.frame':\t30 obs. of  2 variables:\n",
            "  ..$ salary$Salary         : num [1:30] 39343 46205 37731 43525 39891 ...\n",
            "  ..$ salary$YearsExperience: num [1:30] 1.1 1.3 1.5 2 2.2 2.9 3 3.2 3.2 3.7 ...\n",
            "  ..- attr(*, \"terms\")=Classes 'terms', 'formula'  language salary$Salary ~ salary$YearsExperience\n",
            "  .. .. ..- attr(*, \"variables\")= language list(salary$Salary, salary$YearsExperience)\n",
            "  .. .. ..- attr(*, \"factors\")= int [1:2, 1] 0 1\n",
            "  .. .. .. ..- attr(*, \"dimnames\")=List of 2\n",
            "  .. .. .. .. ..$ : chr [1:2] \"salary$Salary\" \"salary$YearsExperience\"\n",
            "  .. .. .. .. ..$ : chr \"salary$YearsExperience\"\n",
            "  .. .. ..- attr(*, \"term.labels\")= chr \"salary$YearsExperience\"\n",
            "  .. .. ..- attr(*, \"order\")= int 1\n",
            "  .. .. ..- attr(*, \"intercept\")= int 1\n",
            "  .. .. ..- attr(*, \"response\")= int 1\n",
            "  .. .. ..- attr(*, \".Environment\")=<environment: R_GlobalEnv> \n",
            "  .. .. ..- attr(*, \"predvars\")= language list(salary$Salary, salary$YearsExperience)\n",
            "  .. .. ..- attr(*, \"dataClasses\")= Named chr [1:2] \"numeric\" \"numeric\"\n",
            "  .. .. .. ..- attr(*, \"names\")= chr [1:2] \"salary$Salary\" \"salary$YearsExperience\"\n",
            " - attr(*, \"class\")= chr \"lm\"\n"
          ]
        }
      ]
    },
    {
      "cell_type": "code",
      "source": [
        "%%R\n",
        "#str(relation)\n",
        "relation$coefficients[1]"
      ],
      "metadata": {
        "colab": {
          "base_uri": "https://localhost:8080/"
        },
        "id": "n4kCgce7No5X",
        "outputId": "fd9fc0b9-fc01-44da-f9b5-f2de1a82e3ab"
      },
      "execution_count": 19,
      "outputs": [
        {
          "output_type": "stream",
          "name": "stdout",
          "text": [
            "(Intercept) \n",
            "    25792.2 \n"
          ]
        }
      ]
    },
    {
      "cell_type": "code",
      "source": [
        "%%R\n",
        "c=relation$coefficient[1]\n",
        "m=relation$coefficient[2]\n",
        "print(c)\n",
        "print(m)"
      ],
      "metadata": {
        "colab": {
          "base_uri": "https://localhost:8080/"
        },
        "id": "Mo0dQDf9Nt6_",
        "outputId": "8069844b-5f5d-427f-b78a-c16e85e4fa72"
      },
      "execution_count": 21,
      "outputs": [
        {
          "output_type": "stream",
          "name": "stdout",
          "text": [
            "(Intercept) \n",
            "    25792.2 \n",
            "salary$YearsExperience \n",
            "              9449.962 \n"
          ]
        }
      ]
    },
    {
      "cell_type": "code",
      "source": [
        "%%R\n",
        "salary_output=m*7+c\n",
        "print(salary_output)"
      ],
      "metadata": {
        "colab": {
          "base_uri": "https://localhost:8080/"
        },
        "id": "jXJF4O5hPBqH",
        "outputId": "aa6c4692-9a96-4d8d-fff7-1429443ff1d8"
      },
      "execution_count": 23,
      "outputs": [
        {
          "output_type": "stream",
          "name": "stdout",
          "text": [
            "salary$YearsExperience \n",
            "              91941.94 \n"
          ]
        }
      ]
    },
    {
      "cell_type": "code",
      "source": [
        "%%R\n",
        "y=m*salary$YearsExperience+c\n",
        "print(y)"
      ],
      "metadata": {
        "colab": {
          "base_uri": "https://localhost:8080/"
        },
        "id": "NKRW_zA-PbGU",
        "outputId": "aff3ed9e-1ea7-414a-f2a7-09d92d27f8d3"
      },
      "execution_count": 24,
      "outputs": [
        {
          "output_type": "stream",
          "name": "stdout",
          "text": [
            " [1]  36187.16  38077.15  39967.14  44692.12  46582.12  53197.09  54142.09\n",
            " [8]  56032.08  56032.08  60757.06  62647.05  63592.05  63592.05  64537.05\n",
            "[15]  68317.03  72097.02  73987.01  75877.00  81546.98  82491.97  90051.94\n",
            "[22]  92886.93 100446.90 103281.89 108006.87 110841.86 115566.84 116511.84\n",
            "[29] 123126.81 125016.80\n"
          ]
        }
      ]
    },
    {
      "cell_type": "code",
      "source": [
        "%%R\n",
        "y=m*salary$YearsExperience+c\n",
        "print(y)\n",
        "salary1 <-mutate(salary, predicted =y)\n",
        "salary2 <-mutate(salary1,difference=salary-predicted)\n",
        "#print(salary)"
      ],
      "metadata": {
        "colab": {
          "base_uri": "https://localhost:8080/"
        },
        "id": "4MFtY_u0Qf-o",
        "outputId": "9f120a59-3531-4764-8794-2d8df306a876"
      },
      "execution_count": 25,
      "outputs": [
        {
          "output_type": "stream",
          "name": "stdout",
          "text": [
            " [1]  36187.16  38077.15  39967.14  44692.12  46582.12  53197.09  54142.09\n",
            " [8]  56032.08  56032.08  60757.06  62647.05  63592.05  63592.05  64537.05\n",
            "[15]  68317.03  72097.02  73987.01  75877.00  81546.98  82491.97  90051.94\n",
            "[22]  92886.93 100446.90 103281.89 108006.87 110841.86 115566.84 116511.84\n",
            "[29] 123126.81 125016.80\n"
          ]
        }
      ]
    },
    {
      "cell_type": "code",
      "source": [
        "%%R\n",
        "print(salary2)"
      ],
      "metadata": {
        "colab": {
          "base_uri": "https://localhost:8080/"
        },
        "id": "ieEd9bdzVSzp",
        "outputId": "4f7c3c39-445d-487b-8a63-c0f95ad5e2ba"
      },
      "execution_count": 26,
      "outputs": [
        {
          "output_type": "stream",
          "name": "stdout",
          "text": [
            "# A tibble: 30 × 4\n",
            "   YearsExperience Salary predicted difference$YearsExperience $Salary\n",
            "             <dbl>  <dbl>     <dbl>                      <dbl>   <dbl>\n",
            " 1             1.1  39343    36187.                    -36186.   3156.\n",
            " 2             1.3  46205    38077.                    -38076.   8128.\n",
            " 3             1.5  37731    39967.                    -39966.  -2236.\n",
            " 4             2    43525    44692.                    -44690.  -1167.\n",
            " 5             2.2  39891    46582.                    -46580.  -6691.\n",
            " 6             2.9  56642    53197.                    -53194.   3445.\n",
            " 7             3    60150    54142.                    -54139.   6008.\n",
            " 8             3.2  54445    56032.                    -56029.  -1587.\n",
            " 9             3.2  64445    56032.                    -56029.   8413.\n",
            "10             3.7  57189    60757.                    -60753.  -3568.\n",
            "# … with 20 more rows\n"
          ]
        }
      ]
    },
    {
      "cell_type": "code",
      "source": [
        "%%R\n",
        "plot(salary$YearsExperience,salary$Salary,\n",
        "     main='regression for YearsExperience ana Salary',\n",
        "     xlab='YearsExperience',ylab='Salary')\n",
        "\n",
        "#plot a regression file\n",
        "abline(relation,col=\"red\")"
      ],
      "metadata": {
        "colab": {
          "base_uri": "https://localhost:8080/",
          "height": 497
        },
        "id": "28kGTFPWVYJp",
        "outputId": "ca81a1eb-5cd3-4926-e094-feb0e0f2cc59"
      },
      "execution_count": 28,
      "outputs": [
        {
          "output_type": "display_data",
          "data": {
            "image/png": "[encoded data removed]"
          },
          "metadata": {}
        }
      ]
    },
    {
      "cell_type": "code",
      "source": [
        "%%R\n"
      ],
      "metadata": {
        "id": "0TpL5dqkXjQ_"
      },
      "execution_count": null,
      "outputs": []
    }
  ]
}